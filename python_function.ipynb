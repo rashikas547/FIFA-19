{
  "nbformat": 4,
  "nbformat_minor": 0,
  "metadata": {
    "colab": {
      "provenance": [],
      "authorship_tag": "ABX9TyORXH6LfmTl6gknr2Zimi+U",
      "include_colab_link": true
    },
    "kernelspec": {
      "name": "python3",
      "display_name": "Python 3"
    },
    "language_info": {
      "name": "python"
    }
  },
  "cells": [
    {
      "cell_type": "markdown",
      "metadata": {
        "id": "view-in-github",
        "colab_type": "text"
      },
      "source": [
        "<a href=\"https://colab.research.google.com/github/rashikas547/FIFA-19/blob/main/python_function.ipynb\" target=\"_parent\"><img src=\"https://colab.research.google.com/assets/colab-badge.svg\" alt=\"Open In Colab\"/></a>"
      ]
    },
    {
      "cell_type": "markdown",
      "source": [
        "1. Write a Python function that takes a list of numbers as input and returns the sum of all even numbers in\n",
        "the list"
      ],
      "metadata": {
        "id": "8jEHI6cQivlH"
      }
    },
    {
      "cell_type": "code",
      "source": [
        "def plus(numbers):\n",
        "  sum =0\n",
        "  for i in numbers:\n",
        "    if i%2==0:\n",
        "      sum=sum+i\n",
        "  return sum\n",
        "numbers=input(\"enter the number: \")\n",
        "print(plus(list(map(int, numbers.split()))))\n",
        "\n",
        "\n"
      ],
      "metadata": {
        "colab": {
          "base_uri": "https://localhost:8080/"
        },
        "id": "5ztRlosDCV38",
        "outputId": "31deb840-1691-455b-9a0c-97358b55b79d"
      },
      "execution_count": null,
      "outputs": [
        {
          "output_type": "stream",
          "name": "stdout",
          "text": [
            "enter the number: 5 6 7 89\n",
            "6\n"
          ]
        }
      ]
    },
    {
      "cell_type": "markdown",
      "source": [
        "2. Create a Python function that accepts a string and returns the reverse of that string."
      ],
      "metadata": {
        "id": "ZyjfnhLMLaqP"
      }
    },
    {
      "cell_type": "code",
      "source": [
        "def reverse(string):\n",
        "  return string[::-1]\n",
        "string =input(\"ENTER THE STRING :\")\n",
        "print(reverse(string))"
      ],
      "metadata": {
        "colab": {
          "base_uri": "https://localhost:8080/"
        },
        "id": "Rom9FNoIKUXx",
        "outputId": "948d12bc-d1a2-4d25-9061-391f90cc33d3"
      },
      "execution_count": null,
      "outputs": [
        {
          "output_type": "stream",
          "name": "stdout",
          "text": [
            "ENTER THE STRING :mera naam chun chun chun baba chun chun chun\n",
            "nuhc nuhc nuhc abab nuhc nuhc nuhc maan arem\n"
          ]
        }
      ]
    },
    {
      "cell_type": "markdown",
      "source": [
        "3. Implement a Python function that takes a list of integers and returns a new list containing the squares of\n",
        "each number"
      ],
      "metadata": {
        "id": "Sgcs38I-MzMj"
      }
    },
    {
      "cell_type": "code",
      "source": [
        "def square(A):\n",
        "  return[num ** 2 for num in A]\n",
        "A = input(\"LIST OF INTEGERS : \")\n",
        "B = list(map(int,A.split()))\n",
        "\n",
        "print(square(B))\n"
      ],
      "metadata": {
        "colab": {
          "base_uri": "https://localhost:8080/"
        },
        "id": "fPHnIpaXQTLh",
        "outputId": "cd51f6a2-c489-4b8e-e5fa-543e2f2b4692"
      },
      "execution_count": null,
      "outputs": [
        {
          "output_type": "stream",
          "name": "stdout",
          "text": [
            "LIST OF INTEGERS : 5 6 876 4 343 \n",
            "[25, 36, 767376, 16, 117649]\n"
          ]
        }
      ]
    },
    {
      "cell_type": "markdown",
      "source": [
        "4. Write a Python function that checks if a given number is prime or not from 1 to 200."
      ],
      "metadata": {
        "id": "KW945A6FUHaN"
      }
    },
    {
      "cell_type": "code",
      "source": [
        "def prime(num):\n",
        "  if num <=1:\n",
        "    return False\n",
        "  for i in range(1,200):\n",
        "    if num %i==0:\n",
        "      return False\n",
        "  return True\n",
        "x = int(input(\"Enter any number: \"))\n",
        "if prime(x):\n",
        "    print(f\"{x} is a prime number\")\n",
        "else:\n",
        "    print(f\"{x} is not a prime number\")\n",
        "\n",
        "\n"
      ],
      "metadata": {
        "colab": {
          "base_uri": "https://localhost:8080/"
        },
        "id": "BiqeSKNzUNL3",
        "outputId": "89fcbe94-7352-4dc4-d93a-0d43c3eb2f38"
      },
      "execution_count": null,
      "outputs": [
        {
          "output_type": "stream",
          "name": "stdout",
          "text": [
            "Enter any number: 1\n",
            "1 is not a prime number\n"
          ]
        }
      ]
    },
    {
      "cell_type": "markdown",
      "source": [
        "5. Create an iterator class in Python that generates the Fibonacci sequence up to a specified number of\n",
        "terms."
      ],
      "metadata": {
        "id": "ATl8eSUkmstP"
      }
    },
    {
      "cell_type": "code",
      "source": [
        "num =10\n",
        "n1,n2 = 0,1\n",
        "seq = []\n",
        "for i in range(0,num):\n",
        "  seq.append(n1)\n",
        "  n1,n2 =n2,n1+n2\n",
        "print(seq)"
      ],
      "metadata": {
        "id": "Fz8wvCJnQZ8c",
        "colab": {
          "base_uri": "https://localhost:8080/"
        },
        "outputId": "0fad36f6-1853-4b48-f6b0-982b7ba3d308"
      },
      "execution_count": null,
      "outputs": [
        {
          "output_type": "stream",
          "name": "stdout",
          "text": [
            "[0, 1, 1, 2, 3, 5, 8, 13, 21, 34]\n"
          ]
        }
      ]
    },
    {
      "cell_type": "markdown",
      "source": [
        "6. Write a generator function in Python that yields the powers of 2 up to a given exponent.\n"
      ],
      "metadata": {
        "id": "sesrM4uksOOC"
      }
    },
    {
      "cell_type": "code",
      "source": [
        "def powers_of_two(max_exponent):\n",
        "    for exponent in range(max_exponent + 1):\n",
        "        yield 2 ** exponent\n",
        "max_exponent = 10\n",
        "x = powers_of_two(max_exponent)\n",
        "for value in x:\n",
        "    print(value)\n",
        "\n"
      ],
      "metadata": {
        "colab": {
          "base_uri": "https://localhost:8080/"
        },
        "id": "51QXBvKIsP2V",
        "outputId": "d297cabb-bb4d-4581-82e5-b3a91157897f"
      },
      "execution_count": null,
      "outputs": [
        {
          "output_type": "stream",
          "name": "stdout",
          "text": [
            "1\n",
            "2\n",
            "4\n",
            "8\n",
            "16\n",
            "32\n",
            "64\n",
            "128\n",
            "256\n",
            "512\n",
            "1024\n"
          ]
        }
      ]
    },
    {
      "cell_type": "code",
      "source": [
        "from google.colab import drive\n",
        "drive.mount('/content/drive')"
      ],
      "metadata": {
        "id": "nKWF82mikBgx"
      },
      "execution_count": null,
      "outputs": []
    },
    {
      "cell_type": "markdown",
      "source": [
        "7. Implement a generator function that reads a file line by line and yields each line as a string."
      ],
      "metadata": {
        "id": "O43O_B6gb653"
      }
    },
    {
      "cell_type": "code",
      "source": [
        "def read_file_line_by_line(file_path):\n",
        "    with open(file_path, 'r') as file:\n",
        "        for line in file:\n",
        "            yield line.rstrip('\\n')\n",
        "file_path = '/pizza_question.txt'\n",
        "for line in read_file_line_by_line(file_path):\n",
        "    print(line)"
      ],
      "metadata": {
        "colab": {
          "base_uri": "https://localhost:8080/"
        },
        "id": "Zirb5NRA1Qsq",
        "outputId": "64b81409-2f64-4215-805f-7f79ed4d224e"
      },
      "execution_count": null,
      "outputs": [
        {
          "output_type": "stream",
          "name": "stdout",
          "text": [
            "\n",
            "1) What days and times do we tend to be busiest?\n",
            "2) How many pizzas are we making during peak periods?\n",
            "3) What are our best and worst-selling pizzas?\n",
            "4) What's our average Revenue?\n",
            "5) What is our monthly order performance?\n",
            "6) What is the order performance of our various pizza sizes?\n",
            "7) Which of our Pizza Category is the most in demand?\n",
            "8) What is our monthly revenue performance?\n",
            "9) Provide a quick visualization for the Month on Month breakdown of our Revenue vs Orders\n"
          ]
        }
      ]
    },
    {
      "cell_type": "markdown",
      "source": [
        "8. Use a lambda function in Python to sort a list of tuples based on the second element of each tuple."
      ],
      "metadata": {
        "id": "YTOA8PoFY1a2"
      }
    },
    {
      "cell_type": "code",
      "source": [
        "def sorting(tuples):\n",
        "  tuples.sort(key=lambda x:x[1])\n",
        "  return tuples\n",
        "tuples =[(\"u\",2),(\"t\",1),(\"l\",4),(\"p\",3),(\"s\",6),(\"e\",5)]\n",
        "print(sorting(tuples))"
      ],
      "metadata": {
        "colab": {
          "base_uri": "https://localhost:8080/"
        },
        "id": "8I4GN46XY2rv",
        "outputId": "51a6b74c-8a44-4554-c6a5-afa6eb5c4cec"
      },
      "execution_count": null,
      "outputs": [
        {
          "output_type": "stream",
          "name": "stdout",
          "text": [
            "[('t', 1), ('u', 2), ('p', 3), ('l', 4), ('e', 5), ('s', 6)]\n"
          ]
        }
      ]
    },
    {
      "cell_type": "markdown",
      "source": [
        "9. Write a Python program that uses `map()` to convert a list of temperatures from Celsius to Fahrenheit."
      ],
      "metadata": {
        "id": "Uqc_poDYWyvy"
      }
    },
    {
      "cell_type": "code",
      "source": [
        "def celsius_to_fahrenheit(celsius):\n",
        "  return (celsius*9/5)+32\n",
        "def convert(celu_list):\n",
        "  result = map(celsius_to_fahrenheit,celu_list)\n",
        "  return list(result)\n",
        "celu_list = [45,32,0,100,23,56]\n",
        "print(convert(celu_list))\n"
      ],
      "metadata": {
        "colab": {
          "base_uri": "https://localhost:8080/"
        },
        "id": "XdB3uGWzXIdE",
        "outputId": "a7fbb08d-06e3-403f-c00c-8dc53d5d24ac"
      },
      "execution_count": null,
      "outputs": [
        {
          "output_type": "stream",
          "name": "stdout",
          "text": [
            "[113.0, 89.6, 32.0, 212.0, 73.4, 132.8]\n"
          ]
        }
      ]
    },
    {
      "cell_type": "markdown",
      "source": [
        "10. Create a Python program that uses `filter()` to remove all the vowels from a given string."
      ],
      "metadata": {
        "id": "8DIk6i5aTq8y"
      }
    },
    {
      "cell_type": "code",
      "source": [
        "def no_vowel(char):\n",
        "  vowel = 'aeiouAEIOU'\n",
        "  return char not in vowel\n",
        "\n",
        "def filter_vowel(input_string):\n",
        "  result = filter(no_vowel,input_string)\n",
        "  return ''.join(result)\n",
        "input_string = input('enter the string')\n",
        "print(filter_vowel(input_string))"
      ],
      "metadata": {
        "id": "UaLtXZLFoH5v",
        "colab": {
          "base_uri": "https://localhost:8080/"
        },
        "outputId": "da1a909f-6359-47d2-e1fa-a9225b15c1b1"
      },
      "execution_count": null,
      "outputs": [
        {
          "output_type": "stream",
          "name": "stdout",
          "text": [
            "enter the stringmera naam chun chun chun baba chun chun chun\n",
            "mr nm chn chn chn bb chn chn chn\n"
          ]
        }
      ]
    },
    {
      "cell_type": "markdown",
      "source": [
        "11 Imagine an accounting routine used in a book shop. It works on a list with sublists, which look like this:\n",
        "orders = [\n",
        "1.    [34587, \"Learning Python, Mark Lutz\", 4, 40.95],\n",
        "2.   [98762, \"Programming Python, Mark Lutz\", 5, 56.80],\n",
        "3.   [77226, \"Head First Python, Paul Barry\",3, 3295],   \n",
        "4.  [88112, \"Einführung in Python3, Bernd Klein\",3,24.99]\n",
        "   ]\n",
        "Write a Python program, which returns a list with 2-tuples. Each tuple consists of the order number and the\n",
        "product of the price per item and the quantity. The product should be increased by 10,- eur if the value of the\n",
        "order is smaller than 100,00 eur\n",
        "\n",
        "Write a Python program using lambda and map."
      ],
      "metadata": {
        "id": "04zvPxPlcDGl"
      }
    },
    {
      "cell_type": "code",
      "source": [
        "def order(num):\n",
        "  book= (lambda number: (number[0],number[2]*number[3] if number[2]*number[3]>=100 else number[2]* number[3]+10))\n",
        "  result=list(map(book,num))\n",
        "  return result\n",
        "num= [[34587, \"Learning Python, Mark Lutz\", 4, 40.95],\n",
        "    [98762, \"Programming Python, Mark Lutz\", 5, 56.80],\n",
        "    [77226, \"Head First Python, Paul Barry\", 3, 32.95],\n",
        "    [88112, \"Einführung in Python3, Bernd Klein\", 3, 24.99]]\n",
        "print(order(num))\n"
      ],
      "metadata": {
        "id": "fH_3RqA8U_al",
        "colab": {
          "base_uri": "https://localhost:8080/"
        },
        "outputId": "ec663f21-674b-4208-dba4-7272446bdb81"
      },
      "execution_count": null,
      "outputs": [
        {
          "output_type": "stream",
          "name": "stdout",
          "text": [
            "[(34587, 163.8), (98762, 284.0), (77226, 108.85000000000001), (88112, 84.97)]\n"
          ]
        }
      ]
    }
  ]
}